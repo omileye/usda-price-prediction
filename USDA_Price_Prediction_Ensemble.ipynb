{
 "cells": [
  {
   "cell_type": "code",
   "execution_count": 1,
   "metadata": {},
   "outputs": [],
   "source": [
     "# Loading neccesary library\n",
    "import pandas as pd\n",
    "import numpy as np\n",
    "import matplotlib.pyplot as plt\n",
    "from matplotlib.pyplot import *\n",
    "import tensorflow as tf\n",
    "from utils import *\n",
    "from sklearn.model_selection import train_test_split\n",
    "from tensorflow.keras.models import Sequential\n",
    "from tensorflow.keras.layers import Dense, Dropout\n",
    "from tensorflow.keras.callbacks import EarlyStopping, LambdaCallback\n",
    "from sklearn.preprocessing import Normalizer\n",
    "from numpy import set_printoptions\n",
    "from sklearn.preprocessing import StandardScaler\n",
    "from sklearn.preprocessing import normalize\n",
    "import gzip, pickle, pickletools\n",
    "import os\n",
    "import sqlite3\n",
    "\n",
    "from sklearn.model_selection import KFold\n",
    "from sklearn.model_selection import cross_val_score\n",
    "from sklearn.model_selection import GridSearchCV\n",
    "from sklearn.linear_model import LinearRegression\n",
    "from sklearn.linear_model import Lasso\n",
    "from sklearn.linear_model import ElasticNet\n",
    "from sklearn.tree import DecisionTreeRegressor\n",
    "from sklearn.neighbors import KNeighborsRegressor\n",
    "from sklearn.svm import SVR\n",
    "from sklearn.pipeline import Pipeline\n",
    "from sklearn.ensemble import RandomForestRegressor\n",
    "from sklearn.ensemble import GradientBoostingRegressor\n",
    "from sklearn.ensemble import ExtraTreesRegressor\n",
    "from sklearn.ensemble import AdaBoostRegressor\n",
    "from sklearn.metrics import mean_squared_error"
   ]
  },
  {
   "cell_type": "code",
   "execution_count": 10,
   "metadata": {},
   "outputs": [],
   "source": [
    "# Load dataset\n",
    "filename = 'datamart-export.csv'\n",
    "dataset = pd.read_csv(filename,  delim_whitespace=False)"
   ]
  },
  {
   "cell_type": "code",
   "execution_count": 11,
   "metadata": {},
   "outputs": [
    {
     "data": {
      "text/plain": [
       "Report Date               42\n",
       "Purchase Type              0\n",
       "Selling Basis              0\n",
       "Class                      0\n",
       "Grade                      0\n",
       "Head Count            157245\n",
       "Weight Range Low      157245\n",
       "Weight Range High     157245\n",
       "Average Weight        157245\n",
       "Dressed Percentage    214876\n",
       "Price Range Low       157245\n",
       "Price Range High      157245\n",
       "Weighted Avg Price    157245\n",
       "dtype: int64"
      ]
     },
     "execution_count": 11,
     "metadata": {},
     "output_type": "execute_result"
    }
   ],
   "source": [
    "dataset.isna().sum()"
   ]
  },
  {
   "cell_type": "code",
   "execution_count": 12,
   "metadata": {},
   "outputs": [
    {
     "data": {
      "text/html": [
       "<div>\n",
       "<style scoped>\n",
       "    .dataframe tbody tr th:only-of-type {\n",
       "        vertical-align: middle;\n",
       "    }\n",
       "\n",
       "    .dataframe tbody tr th {\n",
       "        vertical-align: top;\n",
       "    }\n",
       "\n",
       "    .dataframe thead th {\n",
       "        text-align: right;\n",
       "    }\n",
       "</style>\n",
       "<table border=\"1\" class=\"dataframe\">\n",
       "  <thead>\n",
       "    <tr style=\"text-align: right;\">\n",
       "      <th></th>\n",
       "      <th>Report Date</th>\n",
       "      <th>Purchase Type</th>\n",
       "      <th>Selling Basis</th>\n",
       "      <th>Class</th>\n",
       "      <th>Grade</th>\n",
       "      <th>Head Count</th>\n",
       "      <th>Weight Range Low</th>\n",
       "      <th>Weight Range High</th>\n",
       "      <th>Average Weight</th>\n",
       "      <th>Dressed Percentage</th>\n",
       "      <th>Price Range Low</th>\n",
       "      <th>Price Range High</th>\n",
       "      <th>Weighted Avg Price</th>\n",
       "      <th>Report Year</th>\n",
       "      <th>Report Month</th>\n",
       "    </tr>\n",
       "  </thead>\n",
       "  <tbody>\n",
       "    <tr>\n",
       "      <th>0</th>\n",
       "      <td>9/4/20</td>\n",
       "      <td>FORMULA NET</td>\n",
       "      <td>Live</td>\n",
       "      <td>Mixed Steer/Heifer</td>\n",
       "      <td>Over 80% Choice</td>\n",
       "      <td>162.0</td>\n",
       "      <td>1348.0</td>\n",
       "      <td>1348.0</td>\n",
       "      <td>1348.0</td>\n",
       "      <td>63.2</td>\n",
       "      <td>106.00</td>\n",
       "      <td>106.00</td>\n",
       "      <td>106.00</td>\n",
       "      <td>2020</td>\n",
       "      <td>9</td>\n",
       "    </tr>\n",
       "    <tr>\n",
       "      <th>1</th>\n",
       "      <td>9/4/20</td>\n",
       "      <td>FORMULA NET</td>\n",
       "      <td>Live</td>\n",
       "      <td>Mixed Steer/Heifer</td>\n",
       "      <td>65 - 80% Choice</td>\n",
       "      <td>144.0</td>\n",
       "      <td>1256.0</td>\n",
       "      <td>1256.0</td>\n",
       "      <td>1256.0</td>\n",
       "      <td>64.4</td>\n",
       "      <td>106.75</td>\n",
       "      <td>106.75</td>\n",
       "      <td>106.75</td>\n",
       "      <td>2020</td>\n",
       "      <td>9</td>\n",
       "    </tr>\n",
       "    <tr>\n",
       "      <th>4</th>\n",
       "      <td>9/4/20</td>\n",
       "      <td>FORMULA NET</td>\n",
       "      <td>Live</td>\n",
       "      <td>Steer</td>\n",
       "      <td>Over 80% Choice</td>\n",
       "      <td>1289.0</td>\n",
       "      <td>1380.0</td>\n",
       "      <td>1574.0</td>\n",
       "      <td>1515.0</td>\n",
       "      <td>63.9</td>\n",
       "      <td>106.00</td>\n",
       "      <td>107.66</td>\n",
       "      <td>106.33</td>\n",
       "      <td>2020</td>\n",
       "      <td>9</td>\n",
       "    </tr>\n",
       "    <tr>\n",
       "      <th>5</th>\n",
       "      <td>9/4/20</td>\n",
       "      <td>FORMULA NET</td>\n",
       "      <td>Live</td>\n",
       "      <td>Steer</td>\n",
       "      <td>65 - 80% Choice</td>\n",
       "      <td>711.0</td>\n",
       "      <td>1242.0</td>\n",
       "      <td>1520.0</td>\n",
       "      <td>1412.0</td>\n",
       "      <td>64.2</td>\n",
       "      <td>104.90</td>\n",
       "      <td>108.04</td>\n",
       "      <td>106.64</td>\n",
       "      <td>2020</td>\n",
       "      <td>9</td>\n",
       "    </tr>\n",
       "    <tr>\n",
       "      <th>6</th>\n",
       "      <td>9/4/20</td>\n",
       "      <td>FORMULA NET</td>\n",
       "      <td>Live</td>\n",
       "      <td>Steer</td>\n",
       "      <td>35 - 65% Choice</td>\n",
       "      <td>1515.0</td>\n",
       "      <td>1094.0</td>\n",
       "      <td>1618.0</td>\n",
       "      <td>1340.0</td>\n",
       "      <td>64.5</td>\n",
       "      <td>103.00</td>\n",
       "      <td>108.04</td>\n",
       "      <td>106.17</td>\n",
       "      <td>2020</td>\n",
       "      <td>9</td>\n",
       "    </tr>\n",
       "  </tbody>\n",
       "</table>\n",
       "</div>"
      ],
      "text/plain": [
       "  Report Date Purchase Type Selling Basis               Class  \\\n",
       "0      9/4/20   FORMULA NET          Live  Mixed Steer/Heifer   \n",
       "1      9/4/20   FORMULA NET          Live  Mixed Steer/Heifer   \n",
       "4      9/4/20   FORMULA NET          Live               Steer   \n",
       "5      9/4/20   FORMULA NET          Live               Steer   \n",
       "6      9/4/20   FORMULA NET          Live               Steer   \n",
       "\n",
       "             Grade  Head Count  Weight Range Low  Weight Range High  \\\n",
       "0  Over 80% Choice       162.0            1348.0             1348.0   \n",
       "1  65 - 80% Choice       144.0            1256.0             1256.0   \n",
       "4  Over 80% Choice      1289.0            1380.0             1574.0   \n",
       "5  65 - 80% Choice       711.0            1242.0             1520.0   \n",
       "6  35 - 65% Choice      1515.0            1094.0             1618.0   \n",
       "\n",
       "   Average Weight  Dressed Percentage  Price Range Low  Price Range High  \\\n",
       "0          1348.0                63.2           106.00            106.00   \n",
       "1          1256.0                64.4           106.75            106.75   \n",
       "4          1515.0                63.9           106.00            107.66   \n",
       "5          1412.0                64.2           104.90            108.04   \n",
       "6          1340.0                64.5           103.00            108.04   \n",
       "\n",
       "   Weighted Avg Price  Report Year  Report Month  \n",
       "0              106.00         2020             9  \n",
       "1              106.75         2020             9  \n",
       "4              106.33         2020             9  \n",
       "5              106.64         2020             9  \n",
       "6              106.17         2020             9  "
      ]
     },
     "execution_count": 12,
     "metadata": {},
     "output_type": "execute_result"
    }
   ],
   "source": [
    "dataset.dropna(inplace=True)\n",
    "dataset['Report Year'] = pd.DatetimeIndex(dataset['Report Date']).year\n",
    "dataset['Report Month'] = pd.DatetimeIndex(dataset['Report Date']).month\n",
    "dataset.head()"
   ]
  },
  {
   "cell_type": "code",
   "execution_count": 13,
   "metadata": {
    "scrolled": true
   },
   "outputs": [
    {
     "data": {
      "text/html": [
       "<div>\n",
       "<style scoped>\n",
       "    .dataframe tbody tr th:only-of-type {\n",
       "        vertical-align: middle;\n",
       "    }\n",
       "\n",
       "    .dataframe tbody tr th {\n",
       "        vertical-align: top;\n",
       "    }\n",
       "\n",
       "    .dataframe thead th {\n",
       "        text-align: right;\n",
       "    }\n",
       "</style>\n",
       "<table border=\"1\" class=\"dataframe\">\n",
       "  <thead>\n",
       "    <tr style=\"text-align: right;\">\n",
       "      <th></th>\n",
       "      <th>purchase_type</th>\n",
       "      <th>selling_basis</th>\n",
       "      <th>class</th>\n",
       "      <th>grade</th>\n",
       "      <th>head_count</th>\n",
       "      <th>weight_range_low</th>\n",
       "      <th>weight_range_high</th>\n",
       "      <th>average_weight</th>\n",
       "      <th>dressed_percentage</th>\n",
       "      <th>price_range_low</th>\n",
       "      <th>price_range_high</th>\n",
       "      <th>report_year</th>\n",
       "      <th>report_month</th>\n",
       "      <th>weighted_avg_price</th>\n",
       "    </tr>\n",
       "  </thead>\n",
       "  <tbody>\n",
       "    <tr>\n",
       "      <th>0</th>\n",
       "      <td>FORMULA NET</td>\n",
       "      <td>Live</td>\n",
       "      <td>Mixed Steer/Heifer</td>\n",
       "      <td>Over 80% Choice</td>\n",
       "      <td>162.0</td>\n",
       "      <td>1348.0</td>\n",
       "      <td>1348.0</td>\n",
       "      <td>1348.0</td>\n",
       "      <td>63.2</td>\n",
       "      <td>106.00</td>\n",
       "      <td>106.00</td>\n",
       "      <td>2020</td>\n",
       "      <td>9</td>\n",
       "      <td>106.00</td>\n",
       "    </tr>\n",
       "    <tr>\n",
       "      <th>1</th>\n",
       "      <td>FORMULA NET</td>\n",
       "      <td>Live</td>\n",
       "      <td>Mixed Steer/Heifer</td>\n",
       "      <td>65 - 80% Choice</td>\n",
       "      <td>144.0</td>\n",
       "      <td>1256.0</td>\n",
       "      <td>1256.0</td>\n",
       "      <td>1256.0</td>\n",
       "      <td>64.4</td>\n",
       "      <td>106.75</td>\n",
       "      <td>106.75</td>\n",
       "      <td>2020</td>\n",
       "      <td>9</td>\n",
       "      <td>106.75</td>\n",
       "    </tr>\n",
       "    <tr>\n",
       "      <th>4</th>\n",
       "      <td>FORMULA NET</td>\n",
       "      <td>Live</td>\n",
       "      <td>Steer</td>\n",
       "      <td>Over 80% Choice</td>\n",
       "      <td>1289.0</td>\n",
       "      <td>1380.0</td>\n",
       "      <td>1574.0</td>\n",
       "      <td>1515.0</td>\n",
       "      <td>63.9</td>\n",
       "      <td>106.00</td>\n",
       "      <td>107.66</td>\n",
       "      <td>2020</td>\n",
       "      <td>9</td>\n",
       "      <td>106.33</td>\n",
       "    </tr>\n",
       "    <tr>\n",
       "      <th>5</th>\n",
       "      <td>FORMULA NET</td>\n",
       "      <td>Live</td>\n",
       "      <td>Steer</td>\n",
       "      <td>65 - 80% Choice</td>\n",
       "      <td>711.0</td>\n",
       "      <td>1242.0</td>\n",
       "      <td>1520.0</td>\n",
       "      <td>1412.0</td>\n",
       "      <td>64.2</td>\n",
       "      <td>104.90</td>\n",
       "      <td>108.04</td>\n",
       "      <td>2020</td>\n",
       "      <td>9</td>\n",
       "      <td>106.64</td>\n",
       "    </tr>\n",
       "    <tr>\n",
       "      <th>6</th>\n",
       "      <td>FORMULA NET</td>\n",
       "      <td>Live</td>\n",
       "      <td>Steer</td>\n",
       "      <td>35 - 65% Choice</td>\n",
       "      <td>1515.0</td>\n",
       "      <td>1094.0</td>\n",
       "      <td>1618.0</td>\n",
       "      <td>1340.0</td>\n",
       "      <td>64.5</td>\n",
       "      <td>103.00</td>\n",
       "      <td>108.04</td>\n",
       "      <td>2020</td>\n",
       "      <td>9</td>\n",
       "      <td>106.17</td>\n",
       "    </tr>\n",
       "  </tbody>\n",
       "</table>\n",
       "</div>"
      ],
      "text/plain": [
       "  purchase_type selling_basis               class            grade  \\\n",
       "0   FORMULA NET          Live  Mixed Steer/Heifer  Over 80% Choice   \n",
       "1   FORMULA NET          Live  Mixed Steer/Heifer  65 - 80% Choice   \n",
       "4   FORMULA NET          Live               Steer  Over 80% Choice   \n",
       "5   FORMULA NET          Live               Steer  65 - 80% Choice   \n",
       "6   FORMULA NET          Live               Steer  35 - 65% Choice   \n",
       "\n",
       "   head_count  weight_range_low  weight_range_high  average_weight  \\\n",
       "0       162.0            1348.0             1348.0          1348.0   \n",
       "1       144.0            1256.0             1256.0          1256.0   \n",
       "4      1289.0            1380.0             1574.0          1515.0   \n",
       "5       711.0            1242.0             1520.0          1412.0   \n",
       "6      1515.0            1094.0             1618.0          1340.0   \n",
       "\n",
       "   dressed_percentage  price_range_low  price_range_high  report_year  \\\n",
       "0                63.2           106.00            106.00         2020   \n",
       "1                64.4           106.75            106.75         2020   \n",
       "4                63.9           106.00            107.66         2020   \n",
       "5                64.2           104.90            108.04         2020   \n",
       "6                64.5           103.00            108.04         2020   \n",
       "\n",
       "   report_month  weighted_avg_price  \n",
       "0             9              106.00  \n",
       "1             9              106.75  \n",
       "4             9              106.33  \n",
       "5             9              106.64  \n",
       "6             9              106.17  "
      ]
     },
     "execution_count": 13,
     "metadata": {},
     "output_type": "execute_result"
    }
   ],
   "source": [
    "dataset = dataset.iloc[:, [1,2,3,4,5,6,7,8,9,10,11,13,14,12]]\n",
    "columns = ['purchase_type', 'selling_basis', 'class','grade','head_count',\n",
    "           'weight_range_low', 'weight_range_high','average_weight',\n",
    "           'dressed_percentage', 'price_range_low','price_range_high', \n",
    "           'report_year', 'report_month','weighted_avg_price']\n",
    "\n",
    "dataset.columns = columns\n",
    "dataset.head()"
   ]
  },
  {
   "cell_type": "code",
   "execution_count": 6,
   "metadata": {},
   "outputs": [
    {
     "name": "stdout",
     "output_type": "stream",
     "text": [
      "purchase_type          object\n",
      "selling_basis          object\n",
      "class                  object\n",
      "grade                  object\n",
      "head_count            float64\n",
      "weight_range_low      float64\n",
      "weight_range_high     float64\n",
      "average_weight        float64\n",
      "dressed_percentage    float64\n",
      "price_range_low       float64\n",
      "price_range_high      float64\n",
      "report_year             int64\n",
      "report_month            int64\n",
      "weighted_avg_price    float64\n",
      "dtype: object\n"
     ]
    }
   ],
   "source": [
    "print(dataset.dtypes)"
   ]
  },
  {
   "cell_type": "code",
   "execution_count": 14,
   "metadata": {
    "scrolled": true
   },
   "outputs": [
    {
     "data": {
      "text/plain": [
       "purchase_type         0\n",
       "selling_basis         0\n",
       "class                 0\n",
       "grade                 0\n",
       "head_count            0\n",
       "weight_range_low      0\n",
       "weight_range_high     0\n",
       "average_weight        0\n",
       "dressed_percentage    0\n",
       "price_range_low       0\n",
       "price_range_high      0\n",
       "report_year           0\n",
       "report_month          0\n",
       "weighted_avg_price    0\n",
       "dtype: int64"
      ]
     },
     "execution_count": 14,
     "metadata": {},
     "output_type": "execute_result"
    }
   ],
   "source": [
    "dataset.isna().sum()"
   ]
  },
  {
   "cell_type": "code",
   "execution_count": 16,
   "metadata": {},
   "outputs": [
    {
     "data": {
      "text/plain": [
       "(154388, 14)"
      ]
     },
     "execution_count": 16,
     "metadata": {},
     "output_type": "execute_result"
    }
   ],
   "source": [
    "dataset.shape"
   ]
  },
  {
   "cell_type": "code",
   "execution_count": 27,
   "metadata": {},
   "outputs": [],
   "source": [
    "dataset = dataset.sample(5000)"
   ]
  },
  {
   "cell_type": "code",
   "execution_count": 28,
   "metadata": {},
   "outputs": [
    {
     "data": {
      "text/html": [
       "<div>\n",
       "<style scoped>\n",
       "    .dataframe tbody tr th:only-of-type {\n",
       "        vertical-align: middle;\n",
       "    }\n",
       "\n",
       "    .dataframe tbody tr th {\n",
       "        vertical-align: top;\n",
       "    }\n",
       "\n",
       "    .dataframe thead th {\n",
       "        text-align: right;\n",
       "    }\n",
       "</style>\n",
       "<table border=\"1\" class=\"dataframe\">\n",
       "  <thead>\n",
       "    <tr style=\"text-align: right;\">\n",
       "      <th></th>\n",
       "      <th>purchase_type</th>\n",
       "      <th>selling_basis</th>\n",
       "      <th>class</th>\n",
       "      <th>grade</th>\n",
       "      <th>head_count</th>\n",
       "      <th>weight_range_low</th>\n",
       "      <th>weight_range_high</th>\n",
       "      <th>average_weight</th>\n",
       "      <th>dressed_percentage</th>\n",
       "      <th>price_range_low</th>\n",
       "      <th>price_range_high</th>\n",
       "      <th>report_year</th>\n",
       "      <th>report_month</th>\n",
       "      <th>weighted_avg_price</th>\n",
       "    </tr>\n",
       "  </thead>\n",
       "  <tbody>\n",
       "    <tr>\n",
       "      <th>248767</th>\n",
       "      <td>NEGOTIATED GRID NET</td>\n",
       "      <td>Live</td>\n",
       "      <td>Heifer</td>\n",
       "      <td>65 - 80% Choice</td>\n",
       "      <td>47.0</td>\n",
       "      <td>1150.0</td>\n",
       "      <td>1150.0</td>\n",
       "      <td>1150.0</td>\n",
       "      <td>63.8</td>\n",
       "      <td>82.50</td>\n",
       "      <td>82.50</td>\n",
       "      <td>2009</td>\n",
       "      <td>2</td>\n",
       "      <td>82.50</td>\n",
       "    </tr>\n",
       "    <tr>\n",
       "      <th>59211</th>\n",
       "      <td>NEGOTIATED GRID NET</td>\n",
       "      <td>Dressed</td>\n",
       "      <td>Dairybred Steer/Heifer</td>\n",
       "      <td>Over 80% Choice</td>\n",
       "      <td>455.0</td>\n",
       "      <td>714.0</td>\n",
       "      <td>969.0</td>\n",
       "      <td>856.0</td>\n",
       "      <td>59.8</td>\n",
       "      <td>136.45</td>\n",
       "      <td>174.47</td>\n",
       "      <td>2017</td>\n",
       "      <td>12</td>\n",
       "      <td>153.01</td>\n",
       "    </tr>\n",
       "    <tr>\n",
       "      <th>147566</th>\n",
       "      <td>NEGOTIATED GRID NET</td>\n",
       "      <td>Dressed</td>\n",
       "      <td>Steer</td>\n",
       "      <td>Over 80% Choice</td>\n",
       "      <td>2434.0</td>\n",
       "      <td>768.0</td>\n",
       "      <td>999.0</td>\n",
       "      <td>940.0</td>\n",
       "      <td>63.0</td>\n",
       "      <td>204.06</td>\n",
       "      <td>212.48</td>\n",
       "      <td>2013</td>\n",
       "      <td>11</td>\n",
       "      <td>205.34</td>\n",
       "    </tr>\n",
       "    <tr>\n",
       "      <th>200378</th>\n",
       "      <td>FORMULA NET</td>\n",
       "      <td>Dressed</td>\n",
       "      <td>Mixed Steer/Heifer/Cow</td>\n",
       "      <td>65 - 80% Choice</td>\n",
       "      <td>1043.0</td>\n",
       "      <td>685.0</td>\n",
       "      <td>824.0</td>\n",
       "      <td>788.0</td>\n",
       "      <td>64.8</td>\n",
       "      <td>179.74</td>\n",
       "      <td>185.40</td>\n",
       "      <td>2011</td>\n",
       "      <td>5</td>\n",
       "      <td>183.37</td>\n",
       "    </tr>\n",
       "    <tr>\n",
       "      <th>241783</th>\n",
       "      <td>FORMULA NET</td>\n",
       "      <td>Dressed</td>\n",
       "      <td>Mixed Steer/Heifer/Cow</td>\n",
       "      <td>35 - 65% Choice</td>\n",
       "      <td>384.0</td>\n",
       "      <td>711.0</td>\n",
       "      <td>760.0</td>\n",
       "      <td>745.0</td>\n",
       "      <td>65.5</td>\n",
       "      <td>129.53</td>\n",
       "      <td>130.49</td>\n",
       "      <td>2009</td>\n",
       "      <td>6</td>\n",
       "      <td>129.67</td>\n",
       "    </tr>\n",
       "  </tbody>\n",
       "</table>\n",
       "</div>"
      ],
      "text/plain": [
       "              purchase_type selling_basis                   class  \\\n",
       "248767  NEGOTIATED GRID NET          Live                  Heifer   \n",
       "59211   NEGOTIATED GRID NET       Dressed  Dairybred Steer/Heifer   \n",
       "147566  NEGOTIATED GRID NET       Dressed                   Steer   \n",
       "200378          FORMULA NET       Dressed  Mixed Steer/Heifer/Cow   \n",
       "241783          FORMULA NET       Dressed  Mixed Steer/Heifer/Cow   \n",
       "\n",
       "                  grade  head_count  weight_range_low  weight_range_high  \\\n",
       "248767  65 - 80% Choice        47.0            1150.0             1150.0   \n",
       "59211   Over 80% Choice       455.0             714.0              969.0   \n",
       "147566  Over 80% Choice      2434.0             768.0              999.0   \n",
       "200378  65 - 80% Choice      1043.0             685.0              824.0   \n",
       "241783  35 - 65% Choice       384.0             711.0              760.0   \n",
       "\n",
       "        average_weight  dressed_percentage  price_range_low  price_range_high  \\\n",
       "248767          1150.0                63.8            82.50             82.50   \n",
       "59211            856.0                59.8           136.45            174.47   \n",
       "147566           940.0                63.0           204.06            212.48   \n",
       "200378           788.0                64.8           179.74            185.40   \n",
       "241783           745.0                65.5           129.53            130.49   \n",
       "\n",
       "        report_year  report_month  weighted_avg_price  \n",
       "248767         2009             2               82.50  \n",
       "59211          2017            12              153.01  \n",
       "147566         2013            11              205.34  \n",
       "200378         2011             5              183.37  \n",
       "241783         2009             6              129.67  "
      ]
     },
     "execution_count": 28,
     "metadata": {},
     "output_type": "execute_result"
    }
   ],
   "source": [
    "dataset.head()"
   ]
  },
  {
   "cell_type": "code",
   "execution_count": 29,
   "metadata": {},
   "outputs": [
    {
     "name": "stdout",
     "output_type": "stream",
     "text": [
      "head_count                           float64\n",
      "weight_range_low                     float64\n",
      "weight_range_high                    float64\n",
      "average_weight                       float64\n",
      "dressed_percentage                   float64\n",
      "price_range_low                      float64\n",
      "price_range_high                     float64\n",
      "report_year                            int64\n",
      "report_month                           int64\n",
      "purchase_type_FORMULA NET              uint8\n",
      "purchase_type_NEGOTIATED GRID NET      uint8\n",
      "selling_basis_Dressed                  uint8\n",
      "selling_basis_Live                     uint8\n",
      "class_All Steers & Heifers             uint8\n",
      "class_Dairybred Steer/Heifer           uint8\n",
      "class_Heifer                           uint8\n",
      "class_Mixed Steer/Heifer               uint8\n",
      "class_Mixed Steer/Heifer/Cow           uint8\n",
      "class_Steer                            uint8\n",
      "grade_ 0 - 35% Choice                  uint8\n",
      "grade_35 - 65% Choice                  uint8\n",
      "grade_65 - 80% Choice                  uint8\n",
      "grade_Over 80% Choice                  uint8\n",
      "grade_Total all grades                 uint8\n",
      "dtype: object\n"
     ]
    }
   ],
   "source": [
    "# Encoding categorical data\n",
    "target = dataset.pop('weighted_avg_price')\n",
    "columns_to_encode = ['purchase_type','selling_basis','class','grade']\n",
    "dataset = pd.get_dummies(dataset, columns = columns_to_encode)\n",
    "#dataset.insert(22, 'weighted_avg_price', target)\n",
    "dataset_x = dataset\n",
    "dataset_y = target\n",
    "print(dataset.dtypes)"
   ]
  },
  {
   "cell_type": "code",
   "execution_count": 30,
   "metadata": {},
   "outputs": [
    {
     "data": {
      "image/png": "[encoded data removed]",
      "text/plain": [
       "<Figure size 432x288 with 1 Axes>"
      ]
     },
     "metadata": {
      "needs_background": "light"
     },
     "output_type": "display_data"
    }
   ],
   "source": [
    "target.hist(xlabelsize=1, ylabelsize=1)\n",
    "plt.title('Average price distribution')\n",
    "plt.xlabel('Average Price')\n",
    "plt.ylabel('Number of Cattles')\n",
    "plt.show()"
   ]
  },
  {
   "cell_type": "code",
   "execution_count": 31,
   "metadata": {},
   "outputs": [
    {
     "data": {
      "text/plain": [
       "248767   -1.834114\n",
       "59211    -0.220731\n",
       "147566    0.976664\n",
       "200378    0.473955\n",
       "241783   -0.754788\n",
       "Name: weighted_avg_price, dtype: float64"
      ]
     },
     "execution_count": 31,
     "metadata": {},
     "output_type": "execute_result"
    }
   ],
   "source": [
    "target_norm = (target - target.mean()) / target.std()\n",
    "target_norm.head()"
   ]
  },
  {
   "cell_type": "code",
   "execution_count": 32,
   "metadata": {},
   "outputs": [
    {
     "data": {
      "image/png": "[encoded data removed]",
      "text/plain": [
       "<Figure size 432x288 with 1 Axes>"
      ]
     },
     "metadata": {
      "needs_background": "light"
     },
     "output_type": "display_data"
    }
   ],
   "source": [
    "target_norm.hist(xlabelsize=1, ylabelsize=1)\n",
    "plt.title('Average price distribution')\n",
    "plt.xlabel('Average Price')\n",
    "plt.ylabel('Number of Cattles')\n",
    "plt.show()"
   ]
  },
  {
   "cell_type": "code",
   "execution_count": 33,
   "metadata": {},
   "outputs": [
    {
     "data": {
      "image/png": "[encoded data removed]",
      "text/plain": [
       "<Figure size 1440x720 with 25 Axes>"
      ]
     },
     "metadata": {
      "needs_background": "light"
     },
     "output_type": "display_data"
    }
   ],
   "source": [
    "# histograms\n",
    "plt.rc('figure', figsize=(20,10))\n",
    "dataset.hist(sharex=False, sharey=False, xlabelsize=1, ylabelsize=1)\n",
    "plt.show()"
   ]
  },
  {
   "cell_type": "code",
   "execution_count": 34,
   "metadata": {},
   "outputs": [
    {
     "name": "stderr",
     "output_type": "stream",
     "text": [
      "<ipython-input-34-5d0e1adf515d>:13: UserWarning: Pandas doesn't allow columns to be created via a new attribute name - see https://pandas.pydata.org/pandas-docs/stable/indexing.html#attribute-access\n",
      "  dataset_normalized.colums = columns\n"
     ]
    },
    {
     "data": {
      "image/png": "[encoded data removed]",
      "text/plain": [
       "<Figure size 1440x720 with 25 Axes>"
      ]
     },
     "metadata": {
      "needs_background": "light"
     },
     "output_type": "display_data"
    },
    {
     "name": "stdout",
     "output_type": "stream",
     "text": [
      "(5000, 24)\n"
     ]
    }
   ],
   "source": [
    "columns = dataset.columns\n",
    "array = dataset.values\n",
    "# separate array into input and output components\n",
    "\n",
    "scaler = Normalizer().fit(array)\n",
    "dataset_normalized = scaler.transform(array)\n",
    "# summarize transformed data\n",
    "set_printoptions(precision=3)\n",
    "#print(normalizedX[0:5,:])\n",
    "#normalizedX.hist(sharex=False, sharey=False, xlabelsize=1, ylabelsize=1)\n",
    "#pyplot.show()\n",
    "dataset_normalized = pd.DataFrame(data=dataset_normalized)\n",
    "dataset_normalized.colums = columns\n",
    "#print(pd.DataFrame(data=normalizedX))\n",
    "dataset_normalized.hist(sharex=False, sharey=False, xlabelsize=1, ylabelsize=1)\n",
    "plt.show()\n",
    "print(dataset_normalized.shape)"
   ]
  },
  {
   "cell_type": "code",
   "execution_count": 35,
   "metadata": {
    "pycharm": {
     "name": "#%%\n"
    }
   },
   "outputs": [
    {
     "data": {
      "image/png": "[encoded data removed]",
      "text/plain": [
       "<Figure size 1440x720 with 25 Axes>"
      ]
     },
     "metadata": {
      "needs_background": "light"
     },
     "output_type": "display_data"
    }
   ],
   "source": [
    "# density\n",
    "dataset_normalized.plot(kind='density', subplots=True, layout=(5,5), sharex=False, legend=False,\n",
    "fontsize=1)\n",
    "plt.show()"
   ]
  },
  {
   "cell_type": "code",
   "execution_count": 36,
   "metadata": {},
   "outputs": [
    {
     "data": {
      "image/png": "[encoded data removed]",
      "text/plain": [
       "<Figure size 1440x720 with 2 Axes>"
      ]
     },
     "metadata": {
      "needs_background": "light"
     },
     "output_type": "display_data"
    }
   ],
   "source": [
    "# correlation matrix\n",
    "fig = plt.figure()\n",
    "ax = fig.add_subplot(111)\n",
    "cax = ax.matshow(dataset_normalized.corr(), vmin=-1, vmax=1, interpolation='none')\n",
    "fig.colorbar(cax)\n",
    "ticks = np.arange(0,24,1)\n",
    "ax.set_xticks(ticks)\n",
    "ax.set_yticks(ticks)\n",
    "ax.set_xticklabels(columns)\n",
    "ax.set_yticklabels(columns)\n",
    "plt.show()"
   ]
  },
  {
   "cell_type": "code",
   "execution_count": 37,
   "metadata": {},
   "outputs": [
    {
     "data": {
      "text/html": [
       "<div>\n",
       "<style scoped>\n",
       "    .dataframe tbody tr th:only-of-type {\n",
       "        vertical-align: middle;\n",
       "    }\n",
       "\n",
       "    .dataframe tbody tr th {\n",
       "        vertical-align: top;\n",
       "    }\n",
       "\n",
       "    .dataframe thead th {\n",
       "        text-align: right;\n",
       "    }\n",
       "</style>\n",
       "<table border=\"1\" class=\"dataframe\">\n",
       "  <thead>\n",
       "    <tr style=\"text-align: right;\">\n",
       "      <th></th>\n",
       "      <th>0</th>\n",
       "      <th>1</th>\n",
       "      <th>2</th>\n",
       "      <th>3</th>\n",
       "      <th>4</th>\n",
       "      <th>5</th>\n",
       "      <th>6</th>\n",
       "      <th>7</th>\n",
       "      <th>8</th>\n",
       "      <th>9</th>\n",
       "      <th>...</th>\n",
       "      <th>14</th>\n",
       "      <th>15</th>\n",
       "      <th>16</th>\n",
       "      <th>17</th>\n",
       "      <th>18</th>\n",
       "      <th>19</th>\n",
       "      <th>20</th>\n",
       "      <th>21</th>\n",
       "      <th>22</th>\n",
       "      <th>23</th>\n",
       "    </tr>\n",
       "  </thead>\n",
       "  <tbody>\n",
       "    <tr>\n",
       "      <th>0</th>\n",
       "      <td>0.016593</td>\n",
       "      <td>0.405991</td>\n",
       "      <td>0.405991</td>\n",
       "      <td>0.405991</td>\n",
       "      <td>0.022524</td>\n",
       "      <td>0.029125</td>\n",
       "      <td>0.029125</td>\n",
       "      <td>0.709249</td>\n",
       "      <td>0.000706</td>\n",
       "      <td>0.000000</td>\n",
       "      <td>...</td>\n",
       "      <td>0.000000</td>\n",
       "      <td>0.000353</td>\n",
       "      <td>0.0</td>\n",
       "      <td>0.000000</td>\n",
       "      <td>0.000000</td>\n",
       "      <td>0.0</td>\n",
       "      <td>0.000000</td>\n",
       "      <td>0.000353</td>\n",
       "      <td>0.000000</td>\n",
       "      <td>0.0</td>\n",
       "    </tr>\n",
       "    <tr>\n",
       "      <th>1</th>\n",
       "      <td>0.178334</td>\n",
       "      <td>0.279847</td>\n",
       "      <td>0.379793</td>\n",
       "      <td>0.335503</td>\n",
       "      <td>0.023438</td>\n",
       "      <td>0.053481</td>\n",
       "      <td>0.068382</td>\n",
       "      <td>0.790550</td>\n",
       "      <td>0.004703</td>\n",
       "      <td>0.000000</td>\n",
       "      <td>...</td>\n",
       "      <td>0.000392</td>\n",
       "      <td>0.000000</td>\n",
       "      <td>0.0</td>\n",
       "      <td>0.000000</td>\n",
       "      <td>0.000000</td>\n",
       "      <td>0.0</td>\n",
       "      <td>0.000000</td>\n",
       "      <td>0.000000</td>\n",
       "      <td>0.000392</td>\n",
       "      <td>0.0</td>\n",
       "    </tr>\n",
       "    <tr>\n",
       "      <th>2</th>\n",
       "      <td>0.687372</td>\n",
       "      <td>0.216887</td>\n",
       "      <td>0.282122</td>\n",
       "      <td>0.265460</td>\n",
       "      <td>0.017791</td>\n",
       "      <td>0.057627</td>\n",
       "      <td>0.060005</td>\n",
       "      <td>0.568480</td>\n",
       "      <td>0.003106</td>\n",
       "      <td>0.000000</td>\n",
       "      <td>...</td>\n",
       "      <td>0.000000</td>\n",
       "      <td>0.000000</td>\n",
       "      <td>0.0</td>\n",
       "      <td>0.000000</td>\n",
       "      <td>0.000282</td>\n",
       "      <td>0.0</td>\n",
       "      <td>0.000000</td>\n",
       "      <td>0.000000</td>\n",
       "      <td>0.000282</td>\n",
       "      <td>0.0</td>\n",
       "    </tr>\n",
       "    <tr>\n",
       "      <th>3</th>\n",
       "      <td>0.395007</td>\n",
       "      <td>0.259425</td>\n",
       "      <td>0.312067</td>\n",
       "      <td>0.298433</td>\n",
       "      <td>0.024541</td>\n",
       "      <td>0.068072</td>\n",
       "      <td>0.070215</td>\n",
       "      <td>0.761610</td>\n",
       "      <td>0.001894</td>\n",
       "      <td>0.000379</td>\n",
       "      <td>...</td>\n",
       "      <td>0.000000</td>\n",
       "      <td>0.000000</td>\n",
       "      <td>0.0</td>\n",
       "      <td>0.000379</td>\n",
       "      <td>0.000000</td>\n",
       "      <td>0.0</td>\n",
       "      <td>0.000000</td>\n",
       "      <td>0.000379</td>\n",
       "      <td>0.000000</td>\n",
       "      <td>0.0</td>\n",
       "    </tr>\n",
       "    <tr>\n",
       "      <th>4</th>\n",
       "      <td>0.158631</td>\n",
       "      <td>0.293716</td>\n",
       "      <td>0.313958</td>\n",
       "      <td>0.307761</td>\n",
       "      <td>0.027058</td>\n",
       "      <td>0.053509</td>\n",
       "      <td>0.053906</td>\n",
       "      <td>0.829923</td>\n",
       "      <td>0.002479</td>\n",
       "      <td>0.000413</td>\n",
       "      <td>...</td>\n",
       "      <td>0.000000</td>\n",
       "      <td>0.000000</td>\n",
       "      <td>0.0</td>\n",
       "      <td>0.000413</td>\n",
       "      <td>0.000000</td>\n",
       "      <td>0.0</td>\n",
       "      <td>0.000413</td>\n",
       "      <td>0.000000</td>\n",
       "      <td>0.000000</td>\n",
       "      <td>0.0</td>\n",
       "    </tr>\n",
       "  </tbody>\n",
       "</table>\n",
       "<p>5 rows × 24 columns</p>\n",
       "</div>"
      ],
      "text/plain": [
       "         0         1         2         3         4         5         6   \\\n",
       "0  0.016593  0.405991  0.405991  0.405991  0.022524  0.029125  0.029125   \n",
       "1  0.178334  0.279847  0.379793  0.335503  0.023438  0.053481  0.068382   \n",
       "2  0.687372  0.216887  0.282122  0.265460  0.017791  0.057627  0.060005   \n",
       "3  0.395007  0.259425  0.312067  0.298433  0.024541  0.068072  0.070215   \n",
       "4  0.158631  0.293716  0.313958  0.307761  0.027058  0.053509  0.053906   \n",
       "\n",
       "         7         8         9   ...        14        15   16        17  \\\n",
       "0  0.709249  0.000706  0.000000  ...  0.000000  0.000353  0.0  0.000000   \n",
       "1  0.790550  0.004703  0.000000  ...  0.000392  0.000000  0.0  0.000000   \n",
       "2  0.568480  0.003106  0.000000  ...  0.000000  0.000000  0.0  0.000000   \n",
       "3  0.761610  0.001894  0.000379  ...  0.000000  0.000000  0.0  0.000379   \n",
       "4  0.829923  0.002479  0.000413  ...  0.000000  0.000000  0.0  0.000413   \n",
       "\n",
       "         18   19        20        21        22   23  \n",
       "0  0.000000  0.0  0.000000  0.000353  0.000000  0.0  \n",
       "1  0.000000  0.0  0.000000  0.000000  0.000392  0.0  \n",
       "2  0.000282  0.0  0.000000  0.000000  0.000282  0.0  \n",
       "3  0.000000  0.0  0.000000  0.000379  0.000000  0.0  \n",
       "4  0.000000  0.0  0.000413  0.000000  0.000000  0.0  \n",
       "\n",
       "[5 rows x 24 columns]"
      ]
     },
     "execution_count": 37,
     "metadata": {},
     "output_type": "execute_result"
    }
   ],
   "source": [
    "dataset_normalized.head()"
   ]
  },
  {
   "cell_type": "markdown",
   "metadata": {
    "pycharm": {
     "name": "#%% md\n"
    }
   },
   "source": [
    "# Validation Dataset"
   ]
  },
  {
   "cell_type": "code",
   "execution_count": 38,
   "metadata": {},
   "outputs": [
    {
     "data": {
      "text/plain": [
       "(5000, 24)"
      ]
     },
     "execution_count": 38,
     "metadata": {},
     "output_type": "execute_result"
    }
   ],
   "source": [
    "dataset_normalized.shape"
   ]
  },
  {
   "cell_type": "code",
   "execution_count": 39,
   "metadata": {},
   "outputs": [],
   "source": [
    "# Split-out validation dataset\n",
    "X = dataset_normalized.values\n",
    "Y = target.values\n",
    "validation_size = 0.20\n",
    "seed = 7\n",
    "X_train, X_validation, Y_train, Y_validation = train_test_split(X, Y, test_size=validation_size, random_state=seed)"
   ]
  },
  {
   "cell_type": "code",
   "execution_count": 40,
   "metadata": {},
   "outputs": [],
   "source": [
    "# Test options and evaluation metric\n",
    "num_folds = 10\n",
    "seed = 7\n",
    "scoring = 'neg_mean_squared_error'"
   ]
  },
  {
   "cell_type": "code",
   "execution_count": 41,
   "metadata": {
    "pycharm": {
     "name": "#%%\n"
    }
   },
   "outputs": [],
   "source": [
    "# Spot-Check Algorithms\n",
    "models = []\n",
    "models.append(('LR', LinearRegression()))\n",
    "models.append(('LASSO', Lasso()))\n",
    "models.append(('EN', ElasticNet()))\n",
    "models.append(('KNN', KNeighborsRegressor()))\n",
    "models.append(('CART', DecisionTreeRegressor()))\n",
    "#models.append(('SVR', SVR()))"
   ]
  },
  {
   "cell_type": "code",
   "execution_count": 42,
   "metadata": {},
   "outputs": [
    {
     "name": "stderr",
     "output_type": "stream",
     "text": [
      "/Users/tmedeiros/opt/anaconda3/lib/python3.8/site-packages/sklearn/model_selection/_split.py:293: FutureWarning: Setting a random_state has no effect since shuffle is False. This will raise an error in 0.24. You should leave random_state to its default (None), or set shuffle=True.\n",
      "  warnings.warn(\n",
      "/Users/tmedeiros/opt/anaconda3/lib/python3.8/site-packages/sklearn/model_selection/_split.py:293: FutureWarning: Setting a random_state has no effect since shuffle is False. This will raise an error in 0.24. You should leave random_state to its default (None), or set shuffle=True.\n",
      "  warnings.warn(\n",
      "/Users/tmedeiros/opt/anaconda3/lib/python3.8/site-packages/sklearn/model_selection/_split.py:293: FutureWarning: Setting a random_state has no effect since shuffle is False. This will raise an error in 0.24. You should leave random_state to its default (None), or set shuffle=True.\n",
      "  warnings.warn(\n",
      "/Users/tmedeiros/opt/anaconda3/lib/python3.8/site-packages/sklearn/model_selection/_split.py:293: FutureWarning: Setting a random_state has no effect since shuffle is False. This will raise an error in 0.24. You should leave random_state to its default (None), or set shuffle=True.\n",
      "  warnings.warn(\n"
     ]
    },
    {
     "name": "stdout",
     "output_type": "stream",
     "text": [
      "LR: -89.271421 (9.734883)\n",
      "LASSO: -1443.860967 (73.776702)\n",
      "EN: -1855.777969 (85.099219)\n",
      "KNN: -185.854283 (12.855387)\n"
     ]
    },
    {
     "name": "stderr",
     "output_type": "stream",
     "text": [
      "/Users/tmedeiros/opt/anaconda3/lib/python3.8/site-packages/sklearn/model_selection/_split.py:293: FutureWarning: Setting a random_state has no effect since shuffle is False. This will raise an error in 0.24. You should leave random_state to its default (None), or set shuffle=True.\n",
      "  warnings.warn(\n"
     ]
    },
    {
     "name": "stdout",
     "output_type": "stream",
     "text": [
      "CART: -72.393906 (22.455208)\n"
     ]
    }
   ],
   "source": [
    "# evaluate each model in turn\n",
    "results = []\n",
    "names = []\n",
    "for name, model in models:\n",
    "    kfold = KFold(n_splits=num_folds, random_state=seed)\n",
    "    cv_results = cross_val_score(model, X_train, Y_train, cv=kfold, scoring=scoring)\n",
    "    results.append(cv_results)\n",
    "    names.append(name)\n",
    "    msg = \"%s: %f (%f)\" % (name, cv_results.mean(), cv_results.std())\n",
    "    print(msg)"
   ]
  },
  {
   "cell_type": "code",
   "execution_count": 43,
   "metadata": {
    "pycharm": {
     "name": "#%%\n"
    }
   },
   "outputs": [
    {
     "data": {
      "image/png": "[encoded data removed]",
      "text/plain": [
       "<Figure size 1440x720 with 1 Axes>"
      ]
     },
     "metadata": {
      "needs_background": "light"
     },
     "output_type": "display_data"
    }
   ],
   "source": [
    "# Compare Algorithms\n",
    "fig = plt.figure()\n",
    "fig.suptitle('Algorithm Comparison')\n",
    "ax = fig.add_subplot(111)\n",
    "plt.boxplot(results)\n",
    "ax.set_xticklabels(names)\n",
    "plt.show()"
   ]
  },
  {
   "cell_type": "markdown",
   "metadata": {
    "pycharm": {
     "name": "#%% md\n"
    }
   },
   "source": [
    "# Standardize the dataset"
   ]
  },
  {
   "cell_type": "code",
   "execution_count": 44,
   "metadata": {
    "pycharm": {
     "name": "#%%\n"
    }
   },
   "outputs": [
    {
     "name": "stderr",
     "output_type": "stream",
     "text": [
      "/Users/tmedeiros/opt/anaconda3/lib/python3.8/site-packages/sklearn/model_selection/_split.py:293: FutureWarning: Setting a random_state has no effect since shuffle is False. This will raise an error in 0.24. You should leave random_state to its default (None), or set shuffle=True.\n",
      "  warnings.warn(\n",
      "/Users/tmedeiros/opt/anaconda3/lib/python3.8/site-packages/sklearn/model_selection/_split.py:293: FutureWarning: Setting a random_state has no effect since shuffle is False. This will raise an error in 0.24. You should leave random_state to its default (None), or set shuffle=True.\n",
      "  warnings.warn(\n"
     ]
    },
    {
     "name": "stdout",
     "output_type": "stream",
     "text": [
      "ScaledLR: -89.261531 (9.751981)\n",
      "ScaledLASSO: -102.101183 (10.555685)\n"
     ]
    },
    {
     "name": "stderr",
     "output_type": "stream",
     "text": [
      "/Users/tmedeiros/opt/anaconda3/lib/python3.8/site-packages/sklearn/model_selection/_split.py:293: FutureWarning: Setting a random_state has no effect since shuffle is False. This will raise an error in 0.24. You should leave random_state to its default (None), or set shuffle=True.\n",
      "  warnings.warn(\n",
      "/Users/tmedeiros/opt/anaconda3/lib/python3.8/site-packages/sklearn/model_selection/_split.py:293: FutureWarning: Setting a random_state has no effect since shuffle is False. This will raise an error in 0.24. You should leave random_state to its default (None), or set shuffle=True.\n",
      "  warnings.warn(\n"
     ]
    },
    {
     "name": "stdout",
     "output_type": "stream",
     "text": [
      "ScaledEN: -368.221115 (14.344271)\n",
      "ScaledKNN: -238.331227 (22.594020)\n"
     ]
    },
    {
     "name": "stderr",
     "output_type": "stream",
     "text": [
      "/Users/tmedeiros/opt/anaconda3/lib/python3.8/site-packages/sklearn/model_selection/_split.py:293: FutureWarning: Setting a random_state has no effect since shuffle is False. This will raise an error in 0.24. You should leave random_state to its default (None), or set shuffle=True.\n",
      "  warnings.warn(\n"
     ]
    },
    {
     "name": "stdout",
     "output_type": "stream",
     "text": [
      "ScaledCART: -71.904992 (21.095389)\n"
     ]
    }
   ],
   "source": [
    "pipelines = []\n",
    "pipelines.append(('ScaledLR', Pipeline([('Scaler', StandardScaler()),('LR',\n",
    "LinearRegression())])))\n",
    "pipelines.append(('ScaledLASSO', Pipeline([('Scaler', StandardScaler()),('LASSO',\n",
    "Lasso())])))\n",
    "pipelines.append(('ScaledEN', Pipeline([('Scaler', StandardScaler()),('EN',\n",
    "ElasticNet())])))\n",
    "pipelines.append(('ScaledKNN', Pipeline([('Scaler', StandardScaler()),('KNN',\n",
    "KNeighborsRegressor())])))\n",
    "pipelines.append(('ScaledCART', Pipeline([('Scaler', StandardScaler()),('CART',\n",
    "DecisionTreeRegressor())])))\n",
    "#pipelines.append(('ScaledSVR', Pipeline([('Scaler', StandardScaler()),('SVR', SVR())])))\n",
    "results = []\n",
    "names = []\n",
    "for name, model in pipelines:\n",
    "    kfold = KFold(n_splits=num_folds, random_state=seed)\n",
    "    cv_results = cross_val_score(model, X_train, Y_train, cv=kfold, scoring=scoring)\n",
    "    results.append(cv_results)\n",
    "    names.append(name)\n",
    "    msg = \"%s: %f (%f)\" % (name, cv_results.mean(), cv_results.std())\n",
    "    print(msg)"
   ]
  },
  {
   "cell_type": "markdown",
   "metadata": {
    "pycharm": {
     "name": "#%% md\n"
    }
   },
   "source": [
    "# Compare Algorithms"
   ]
  },
  {
   "cell_type": "code",
   "execution_count": 45,
   "metadata": {
    "pycharm": {
     "name": "#%%\n"
    }
   },
   "outputs": [
    {
     "data": {
      "image/png": "[encoded data removed]",
      "text/plain": [
       "<Figure size 1440x720 with 1 Axes>"
      ]
     },
     "metadata": {
      "needs_background": "light"
     },
     "output_type": "display_data"
    }
   ],
   "source": [
    "fig = plt.figure()\n",
    "fig.suptitle('Scaled Algorithm Comparison')\n",
    "ax = fig.add_subplot(111)\n",
    "plt.boxplot(results)\n",
    "ax.set_xticklabels(names)\n",
    "plt.show()"
   ]
  },
  {
   "cell_type": "markdown",
   "metadata": {
    "pycharm": {
     "name": "#%% md\n"
    }
   },
   "source": [
    "# Ensemble Methods"
   ]
  },
  {
   "cell_type": "code",
   "execution_count": 46,
   "metadata": {},
   "outputs": [
    {
     "name": "stderr",
     "output_type": "stream",
     "text": [
      "/Users/tmedeiros/opt/anaconda3/lib/python3.8/site-packages/sklearn/model_selection/_split.py:293: FutureWarning: Setting a random_state has no effect since shuffle is False. This will raise an error in 0.24. You should leave random_state to its default (None), or set shuffle=True.\n",
      "  warnings.warn(\n"
     ]
    },
    {
     "name": "stdout",
     "output_type": "stream",
     "text": [
      "ScaledAB: -312.124280 (40.687025)\n"
     ]
    },
    {
     "name": "stderr",
     "output_type": "stream",
     "text": [
      "/Users/tmedeiros/opt/anaconda3/lib/python3.8/site-packages/sklearn/model_selection/_split.py:293: FutureWarning: Setting a random_state has no effect since shuffle is False. This will raise an error in 0.24. You should leave random_state to its default (None), or set shuffle=True.\n",
      "  warnings.warn(\n"
     ]
    },
    {
     "name": "stdout",
     "output_type": "stream",
     "text": [
      "ScaledGBM: -54.428128 (5.378761)\n"
     ]
    },
    {
     "name": "stderr",
     "output_type": "stream",
     "text": [
      "/Users/tmedeiros/opt/anaconda3/lib/python3.8/site-packages/sklearn/model_selection/_split.py:293: FutureWarning: Setting a random_state has no effect since shuffle is False. This will raise an error in 0.24. You should leave random_state to its default (None), or set shuffle=True.\n",
      "  warnings.warn(\n"
     ]
    },
    {
     "name": "stdout",
     "output_type": "stream",
     "text": [
      "ScaledRF: -37.318337 (7.615128)\n"
     ]
    },
    {
     "name": "stderr",
     "output_type": "stream",
     "text": [
      "/Users/tmedeiros/opt/anaconda3/lib/python3.8/site-packages/sklearn/model_selection/_split.py:293: FutureWarning: Setting a random_state has no effect since shuffle is False. This will raise an error in 0.24. You should leave random_state to its default (None), or set shuffle=True.\n",
      "  warnings.warn(\n"
     ]
    },
    {
     "name": "stdout",
     "output_type": "stream",
     "text": [
      "ScaledET: -21.966143 (3.732607)\n"
     ]
    }
   ],
   "source": [
    "ensembles = []\n",
    "ensembles.append(('ScaledAB', Pipeline([('Scaler', StandardScaler()),('AB',\n",
    "    AdaBoostRegressor())])))\n",
    "ensembles.append(('ScaledGBM', Pipeline([('Scaler', StandardScaler()),('GBM',\n",
    "    GradientBoostingRegressor())])))\n",
    "ensembles.append(('ScaledRF', Pipeline([('Scaler', StandardScaler()),('RF',\n",
    "    RandomForestRegressor())])))\n",
    "ensembles.append(('ScaledET', Pipeline([('Scaler', StandardScaler()),('ET',\n",
    "    ExtraTreesRegressor())])))\n",
    "\n",
    "results = []\n",
    "names = []\n",
    "for name, model in ensembles:\n",
    "    kfold = KFold(n_splits=num_folds, random_state=seed)\n",
    "    cv_results = cross_val_score(model, X_train, Y_train, cv=kfold, scoring=scoring)\n",
    "    results.append(cv_results)\n",
    "    names.append(name)\n",
    "    msg = \"%s: %f (%f)\" % (name, cv_results.mean(), cv_results.std())\n",
    "    print(msg)"
   ]
  },
  {
   "cell_type": "markdown",
   "metadata": {
    "pycharm": {
     "name": "#%% md\n"
    }
   },
   "source": [
    "# Compare Algorithms"
   ]
  },
  {
   "cell_type": "code",
   "execution_count": 47,
   "metadata": {
    "pycharm": {
     "name": "#%%\n"
    }
   },
   "outputs": [
    {
     "data": {
      "image/png": "[encoded data removed]",
      "text/plain": [
       "<Figure size 1440x720 with 1 Axes>"
      ]
     },
     "metadata": {
      "needs_background": "light"
     },
     "output_type": "display_data"
    }
   ],
   "source": [
    "fig = plt.figure()\n",
    "fig.suptitle('Scaled Ensemble Algorithm Comparison')\n",
    "ax = fig.add_subplot(111)\n",
    "plt.boxplot(results)\n",
    "ax.set_xticklabels(names)\n",
    "plt.show()"
   ]
  },
  {
   "cell_type": "code",
   "execution_count": 48,
   "metadata": {
    "pycharm": {
     "name": "#%%\n"
    }
   },
   "outputs": [
    {
     "name": "stderr",
     "output_type": "stream",
     "text": [
      "/Users/tmedeiros/opt/anaconda3/lib/python3.8/site-packages/sklearn/model_selection/_split.py:293: FutureWarning: Setting a random_state has no effect since shuffle is False. This will raise an error in 0.24. You should leave random_state to its default (None), or set shuffle=True.\n",
      "  warnings.warn(\n"
     ]
    }
   ],
   "source": [
    "# Tune scaled ExtraTreesRegressor\n",
    "scaler = StandardScaler().fit(X_train)\n",
    "rescaledX = scaler.transform(X_train)\n",
    "param_grid = dict(n_estimators=np.array([50,100,150,200,250,300,350,400]))\n",
    "model = ExtraTreesRegressor(random_state=seed)\n",
    "kfold = KFold(n_splits=num_folds, random_state=seed)\n",
    "grid = GridSearchCV(estimator=model, param_grid=param_grid, scoring=scoring, cv=kfold)\n",
    "grid_result = grid.fit(rescaledX, Y_train)"
   ]
  },
  {
   "cell_type": "code",
   "execution_count": 49,
   "metadata": {},
   "outputs": [
    {
     "name": "stdout",
     "output_type": "stream",
     "text": [
      "Best: -21.731501 using {'n_estimators': 400}\n",
      "-24.148130 (4.222107) with: {'n_estimators': 50}\n",
      "-22.943168 (3.709180) with: {'n_estimators': 100}\n",
      "-22.410384 (3.673789) with: {'n_estimators': 150}\n",
      "-22.293994 (3.486967) with: {'n_estimators': 200}\n",
      "-22.062313 (3.421545) with: {'n_estimators': 250}\n",
      "-21.966089 (3.323562) with: {'n_estimators': 300}\n",
      "-21.871715 (3.328156) with: {'n_estimators': 350}\n",
      "-21.731501 (3.320945) with: {'n_estimators': 400}\n"
     ]
    }
   ],
   "source": [
    "print(\"Best: %f using %s\" % (grid_result.best_score_, grid_result.best_params_))\n",
    "means = grid_result.cv_results_['mean_test_score']\n",
    "stds = grid_result.cv_results_['std_test_score']\n",
    "params = grid_result.cv_results_['params']\n",
    "for mean, stdev, param in zip(means, stds, params):\n",
    "    print(\"%f (%f) with: %r\" % (mean, stdev, param))"
   ]
  },
  {
   "cell_type": "markdown",
   "metadata": {
    "pycharm": {
     "name": "#%% md\n"
    }
   },
   "source": [
    "# prepare the model"
   ]
  },
  {
   "cell_type": "markdown",
   "metadata": {
    "pycharm": {
     "name": "#%% md\n"
    }
   },
   "source": [
    "# Finalize the model"
   ]
  },
  {
   "cell_type": "code",
   "execution_count": 50,
   "metadata": {},
   "outputs": [],
   "source": [
    "scaler = StandardScaler().fit(X_train)\n",
    "rescaledX = scaler.transform(X_train)\n",
    "model = ExtraTreesRegressor(random_state=seed, n_estimators=400)\n",
    "usda_model = model.fit(rescaledX, Y_train)"
   ]
  },
  {
   "cell_type": "code",
   "execution_count": 51,
   "metadata": {},
   "outputs": [
    {
     "name": "stdout",
     "output_type": "stream",
     "text": [
      "26.349101752317488\n"
     ]
    }
   ],
   "source": [
    "# transform the validation dataset\n",
    "rescaledValidationX = scaler.transform(X_validation)\n",
    "predictions = model.predict(rescaledValidationX)\n",
    "print(mean_squared_error(Y_validation, predictions))"
   ]
  },
  {
   "cell_type": "code",
   "execution_count": 52,
   "metadata": {},
   "outputs": [
    {
     "data": {
      "text/plain": [
       "sklearn.ensemble._forest.ExtraTreesRegressor"
      ]
     },
     "execution_count": 52,
     "metadata": {},
     "output_type": "execute_result"
    }
   ],
   "source": [
    "type(usda_model)"
   ]
  },
  {
   "cell_type": "code",
   "execution_count": 53,
   "metadata": {},
   "outputs": [
    {
     "data": {
      "text/plain": [
       "ExtraTreesRegressor(n_estimators=400, random_state=7)"
      ]
     },
     "execution_count": 53,
     "metadata": {},
     "output_type": "execute_result"
    }
   ],
   "source": [
    "usda_model"
   ]
  },
  {
   "cell_type": "code",
   "execution_count": 135,
   "metadata": {},
   "outputs": [],
   "source": [
    "with open('usda_model.pickle', 'wb') as f:\n",
    "    pickle.dump(usda_model, f)"
   ]
  },
  {
   "cell_type": "code",
   "execution_count": 132,
   "metadata": {},
   "outputs": [
    {
     "data": {
      "text/plain": [
       "sklearn.ensemble._forest.ExtraTreesRegressor"
      ]
     },
     "execution_count": 132,
     "metadata": {},
     "output_type": "execute_result"
    }
   ],
   "source": [
    "type(usda_model)"
   ]
  },
  {
   "cell_type": "code",
   "execution_count": 54,
   "metadata": {},
   "outputs": [
    {
     "data": {
      "text/plain": [
       "array([-0.874,  0.397, -0.049,  0.164,  0.517,  2.293,  2.07 ,  0.68 ,\n",
       "       -0.446, -1.157,  1.369,  0.866, -0.664, -0.229, -0.462, -0.466,\n",
       "       -0.52 ,  2.684, -0.503, -0.399, -0.569,  1.961, -0.592, -0.229])"
      ]
     },
     "execution_count": 54,
     "metadata": {},
     "output_type": "execute_result"
    }
   ],
   "source": [
    "rescaledValidationX[0]"
   ]
  },
  {
   "cell_type": "code",
   "execution_count": 55,
   "metadata": {},
   "outputs": [
    {
     "data": {
      "text/plain": [
       "array([1.665e-02, 3.366e-01, 3.366e-01, 3.366e-01, 2.387e-02, 1.029e-01,\n",
       "       1.029e-01, 7.988e-01, 1.586e-03, 0.000e+00, 3.964e-04, 3.964e-04,\n",
       "       0.000e+00, 0.000e+00, 0.000e+00, 0.000e+00, 0.000e+00, 3.964e-04,\n",
       "       0.000e+00, 0.000e+00, 0.000e+00, 3.964e-04, 0.000e+00, 0.000e+00])"
      ]
     },
     "execution_count": 55,
     "metadata": {},
     "output_type": "execute_result"
    }
   ],
   "source": [
    "X_validation[0]"
   ]
  },
  {
   "cell_type": "code",
   "execution_count": 61,
   "metadata": {},
   "outputs": [
    {
     "data": {
      "text/plain": [
       "24"
      ]
     },
     "execution_count": 61,
     "metadata": {},
     "output_type": "execute_result"
    }
   ],
   "source": [
    "user_data = [1025.0,1342.0,1575.0,1465.0,63.6,101.84,115.82,2020.0,9.0,\n",
    "             1.0,0.0,\n",
    "             0.0,1.0,\n",
    "             0.0,0.0,0.0,1.0,0.0,0.0,\n",
    "             0.0,0.0,0.0,1.0,0.0]\n",
    "len(user_data)"
   ]
  },
  {
   "cell_type": "code",
   "execution_count": 62,
   "metadata": {},
   "outputs": [
    {
     "data": {
      "text/plain": [
       "array([ 1.142,  1.657,  2.035,  1.856, -0.419, -0.357, -0.334,  2.758,\n",
       "       -0.508, -0.521, -0.522, -0.522, -0.521, -0.522, -0.522, -0.522,\n",
       "       -0.521, -0.522, -0.522, -0.522, -0.522, -0.522, -0.521, -0.522])"
      ]
     },
     "execution_count": 62,
     "metadata": {},
     "output_type": "execute_result"
    }
   ],
   "source": [
    "array = np.asarray(user_data)\n",
    "user_data_norm = (array - array.mean()) / array.std()\n",
    "user_data_norm"
   ]
  },
  {
   "cell_type": "code",
   "execution_count": null,
   "outputs": [],
   "source": [
    "x = user_data\n",
    "normalized_user_data = x / np.linalg.norm(x,ord=None, axis=None, keepdims=False)\n",
    "array = np.asarray(normalized_user_data)\n",
    "user_data_norm = (normalized_user_data - normalized_user_data.mean()) / normalized_user_data.std()\n",
    "user_data_norm"
   ],
   "metadata": {
    "collapsed": false,
    "pycharm": {
     "name": "#%%\n"
    }
   }
  },
  {
   "cell_type": "code",
   "execution_count": null,
   "outputs": [],
   "source": [
    "array = np.asarray(user_data_norm).reshape(-1, 24)\n",
    "model.predict(array)"
   ],
   "metadata": {
    "collapsed": false,
    "pycharm": {
     "name": "#%%\n"
    }
   }
  },
  {
   "cell_type": "code",
   "execution_count": null,
   "outputs": [],
   "source": [
    "filepath = \"usda_model.pkl\"\n",
    "with gzip.open(filepath, \"wb\") as f:\n",
    "    pickled = pickle.dumps(usda_model)\n",
    "    optimized_pickle = pickletools.optimize(pickled)\n",
    "    f.write(optimized_pickle)"
   ],
   "metadata": {
    "collapsed": false,
    "pycharm": {
     "name": "#%%\n"
    }
   }
  },
  {
   "cell_type": "code",
   "execution_count": 63,
   "metadata": {},
   "outputs": [
    {
     "data": {
      "text/plain": [
       "array([ 1.142,  1.657,  2.035,  1.856, -0.419, -0.357, -0.334,  2.758,\n",
       "       -0.508, -0.521, -0.522, -0.522, -0.521, -0.522, -0.522, -0.522,\n",
       "       -0.521, -0.522, -0.522, -0.522, -0.522, -0.522, -0.521, -0.522])"
      ]
     },
     "execution_count": 63,
     "metadata": {},
     "output_type": "execute_result"
    }
   ],
   "source": [
    "dataset.columns"
   ]
  },
  {
   "cell_type": "code",
   "execution_count": 64,
   "metadata": {},
   "outputs": [
    {
     "data": {
      "text/plain": [
       "array([156.668])"
      ]
     },
     "execution_count": 64,
     "metadata": {},
     "output_type": "execute_result"
    }
   ],
   "source": [
    "array = np.asarray(user_data_norm).reshape(-1, 24)\n",
    "model.predict(array)"
   ]
  },
  {
   "cell_type": "code",
   "execution_count": 65,
   "metadata": {},
   "outputs": [],
   "source": [
    "filepath = \"usda_model.pkl\"\n",
    "with gzip.open(filepath, \"wb\") as f:\n",
    "    pickled = pickle.dumps(usda_model)\n",
    "    optimized_pickle = pickletools.optimize(pickled)\n",
    "    f.write(optimized_pickle)"
   ]
  },
  {
   "cell_type": "code",
   "execution_count": 139,
   "metadata": {},
   "outputs": [
    {
     "data": {
      "text/plain": [
       "Index(['head_count', 'weight_range_low', 'weight_range_high', 'average_weight',\n",
       "       'dressed_percentage', 'price_range_low', 'price_range_high',\n",
       "       'report_year', 'report_month', 'purchase_type_FORMULA NET',\n",
       "       'purchase_type_NEGOTIATED GRID NET', 'selling_basis_Dressed',\n",
       "       'selling_basis_Live', 'class_All Steers & Heifers',\n",
       "       'class_Dairybred Steer/Heifer', 'class_Heifer',\n",
       "       'class_Mixed Steer/Heifer', 'class_Mixed Steer/Heifer/Cow',\n",
       "       'class_Steer', 'grade_ 0 - 35% Choice', 'grade_35 - 65% Choice',\n",
       "       'grade_65 - 80% Choice', 'grade_Over 80% Choice',\n",
       "       'grade_Total all grades'],\n",
       "      dtype='object')"
      ]
     },
     "execution_count": 139,
     "metadata": {},
     "output_type": "execute_result"
    }
   ],
   "source": [
    "dataset.columns"
   ]
  },
  {
   "cell_type": "markdown",
   "metadata": {},
   "source": [
    "# Tune the Random Forest and Perform GridSearch as possible next steps"
   ]
  }
 ],
 "metadata": {
  "kernelspec": {
   "display_name": "Python 3",
   "language": "python",
   "name": "python3"
  },
  "language_info": {
   "codemirror_mode": {
    "name": "ipython",
    "version": 3
   },
   "file_extension": ".py",
   "mimetype": "text/x-python",
   "name": "python",
   "nbconvert_exporter": "python",
   "pygments_lexer": "ipython3",
   "version": "3.8.3"
  }
 },
 "nbformat": 4,
 "nbformat_minor": 4
}
